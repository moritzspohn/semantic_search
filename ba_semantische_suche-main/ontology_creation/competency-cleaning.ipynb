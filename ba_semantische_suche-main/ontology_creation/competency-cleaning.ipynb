{
 "cells": [
  {
   "cell_type": "markdown",
   "metadata": {},
   "source": [
    "### Helper Function"
   ]
  },
  {
   "cell_type": "code",
   "execution_count": 1,
   "metadata": {},
   "outputs": [],
   "source": [
    "# function to join a list of strings to a string, separated by \\n\n",
    "def list_to_string(string_list):\n",
    "    str1 = '\\n'\n",
    "    return (str1.join(string_list))"
   ]
  },
  {
   "cell_type": "markdown",
   "metadata": {},
   "source": [
    "### Function for cleaning the competencies from Wikipedia"
   ]
  },
  {
   "cell_type": "code",
   "execution_count": 2,
   "metadata": {},
   "outputs": [],
   "source": [
    "# function to clean the competencies that are given from whe wikipedia glossaries\n",
    "def clean_competencies(data):\n",
    "    split_data = data.split('\\n')\n",
    "\n",
    "    competencies = []\n",
    "\n",
    "    for datum in split_data:    # many filters that have been found empirically\n",
    "        if (datum and len(datum) > 2 and len(datum) < 64 and datum[0] != ' ' \n",
    "            and datum[0] != '(' and 'the ' not in datum and 'The ' not in datum \n",
    "            and 'See ' not in datum and ',' not in datum and '{' not in datum \n",
    "            and '[' not in datum and 'Also ' not in datum and datum != 'Contents:' \n",
    "            and datum[len(datum)-1] != '.'):\n",
    "            competencies.append(datum)\n",
    "    \n",
    "    return list(dict.fromkeys(competencies))"
   ]
  },
  {
   "cell_type": "markdown",
   "metadata": {},
   "source": [
    "### Cleaning competencies form the Wikipedia entries and saving the competencies to a string\n",
    "\n",
    "#### <span style=\"color:red\">Note that there might still be errors in the competencies that have to be removed manually form the txt files that are created in the next step</span>"
   ]
  },
  {
   "cell_type": "code",
   "execution_count": null,
   "metadata": {},
   "outputs": [],
   "source": [
    "# saving the competencies of chemistry into a string\n",
    "file_location = \"databases/competences-chemistry.txt\"\n",
    "\n",
    "with open(file_location, 'r', encoding='utf-8') as file:\n",
    "    chemistry_data = file.read()\n",
    "\n",
    "competencies_chemistry = clean_competencies(chemistry_data)"
   ]
  },
  {
   "cell_type": "code",
   "execution_count": null,
   "metadata": {},
   "outputs": [],
   "source": [
    "# saving the competencies of computer science into a string\n",
    "file_location = \"databases/competences-computer-science.txt\"\n",
    "\n",
    "with open(file_location, 'r', encoding='utf-8') as file:\n",
    "    computer_science_data = file.read()\n",
    "\n",
    "competencies_computer_science = clean_competencies(computer_science_data)"
   ]
  },
  {
   "cell_type": "markdown",
   "metadata": {},
   "source": [
    "### Saving to txt files\n",
    "## <span style=\"color:red\">WARNING</span>\n",
    "#### <span style=\"color:red\">This resets the txt files and therefore all manual preprocessing</span>\n",
    "\n",
    "##### <span >There are backups in the backup folder</span>"
   ]
  },
  {
   "cell_type": "code",
   "execution_count": null,
   "metadata": {},
   "outputs": [],
   "source": [
    "def ask_for_confirmation():\n",
    "    while True:\n",
    "        user_input = input(\"Are you sure? (yes/no): \").strip().lower()\n",
    "        if user_input == \"yes\":\n",
    "            return True\n",
    "        elif user_input == \"no\":\n",
    "            return False\n",
    "        else:\n",
    "            print(\"Invalid input. Please type 'yes' or 'no'.\")\n",
    "\n",
    "# Call the function to ask for confirmation\n",
    "resume_code = ask_for_confirmation()\n",
    "\n",
    "if resume_code:\n",
    "    # saving the competencies into txt files for manual processing\n",
    "        with open('databases/chemistry.txt', 'w', encoding='utf-8') as file:\n",
    "                file.write(list_to_string(competencies_chemistry))\n",
    "\n",
    "\n",
    "        with open('databases/computer-science.txt', 'w', encoding='utf-8') as file:\n",
    "                file.write(list_to_string(competencies_computer_science))"
   ]
  },
  {
   "cell_type": "markdown",
   "metadata": {},
   "source": [
    "### Helper function"
   ]
  },
  {
   "cell_type": "code",
   "execution_count": 4,
   "metadata": {},
   "outputs": [],
   "source": [
    "import csv\n",
    "\n",
    "# function to write a string into a csv file with a given name\n",
    "def write_list_to_csv(data, filename):\n",
    "    with open(filename, 'w', newline='', encoding='UTF8') as csvfile:\n",
    "        writer = csv.writer(csvfile)\n",
    "        writer.writerow(data)"
   ]
  },
  {
   "cell_type": "markdown",
   "metadata": {},
   "source": [
    "### Final saving into csv files after manual cleaning of txt files"
   ]
  },
  {
   "cell_type": "code",
   "execution_count": 7,
   "metadata": {},
   "outputs": [],
   "source": [
    "# Saving the data from chemistry.txt to a csv\n",
    "with open('databases/chemistry.txt', 'r', encoding='utf-8') as file:\n",
    "    chemistry_data = file.read()\n",
    "\n",
    "competencies_chemistry = clean_competencies(chemistry_data)\n",
    "\n",
    "chemistry_filename = 'databases/chemistry.csv'\n",
    "write_list_to_csv(competencies_chemistry, chemistry_filename)"
   ]
  },
  {
   "cell_type": "code",
   "execution_count": 8,
   "metadata": {},
   "outputs": [],
   "source": [
    "# Saving the data from computer_science.txt to a csv\n",
    "with open('databases/computer-science.txt', 'r', encoding='utf-8') as file:\n",
    "    computer_science_data = file.read()\n",
    "\n",
    "competencies_computer_science = clean_competencies(computer_science_data)\n",
    "\n",
    "computer_science_filename = 'databases/computer-science.csv'\n",
    "write_list_to_csv(competencies_computer_science, computer_science_filename)"
   ]
  }
 ],
 "metadata": {
  "kernelspec": {
   "display_name": "Python 3",
   "language": "python",
   "name": "python3"
  },
  "language_info": {
   "codemirror_mode": {
    "name": "ipython",
    "version": 3
   },
   "file_extension": ".py",
   "mimetype": "text/x-python",
   "name": "python",
   "nbconvert_exporter": "python",
   "pygments_lexer": "ipython3",
   "version": "3.11.0"
  },
  "orig_nbformat": 4
 },
 "nbformat": 4,
 "nbformat_minor": 2
}
